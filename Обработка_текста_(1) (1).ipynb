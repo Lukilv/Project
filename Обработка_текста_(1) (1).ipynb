{
  "cells": [
    {
      "cell_type": "code",
      "execution_count": 1,
      "metadata": {
        "id": "6JZistWm_jqv"
      },
      "outputs": [],
      "source": [
        "import pandas as pd"
      ]
    },
    {
      "cell_type": "code",
      "execution_count": 2,
      "metadata": {
        "id": "dceqZHXsyQ0h"
      },
      "outputs": [],
      "source": [
        "data = pd.read_excel('vacancies.xlsx')"
      ]
    },
    {
      "cell_type": "code",
      "execution_count": 3,
      "metadata": {
        "colab": {
          "base_uri": "https://localhost:8080/"
        },
        "id": "ooP2XdwwydEM",
        "outputId": "ed282691-0031-45a5-be11-c0850c61eb3b"
      },
      "outputs": [
        {
          "output_type": "stream",
          "name": "stdout",
          "text": [
            "Index(['Unnamed: 0', 'requisitionId', 'internalId', 'title', 'company',\n",
            "       'companyShortName', 'publicationDate', 'introduction', 'specialization',\n",
            "       'specializationId', 'duties', 'requirements', 'conditions',\n",
            "       'acceptHandicappedFlag', 'city', 'region', 'salary_min', 'salary_max',\n",
            "       'workScheduleId', 'experienceId', 'link'],\n",
            "      dtype='object')\n"
          ]
        }
      ],
      "source": [
        "df = pd.DataFrame(data)\n",
        "print(df.columns)"
      ]
    },
    {
      "cell_type": "code",
      "execution_count": 4,
      "metadata": {
        "id": "FbLJ___oOHvb"
      },
      "outputs": [],
      "source": [
        "df = df.astype(str)"
      ]
    },
    {
      "cell_type": "code",
      "execution_count": 5,
      "metadata": {
        "colab": {
          "base_uri": "https://localhost:8080/"
        },
        "id": "VmCUO4RJ2XBH",
        "outputId": "2ebd70cc-c733-4074-9668-43aa902e2b71"
      },
      "outputs": [
        {
          "output_type": "stream",
          "name": "stdout",
          "text": [
            "Collecting pymorphy2\n",
            "  Downloading pymorphy2-0.9.1-py3-none-any.whl (55 kB)\n",
            "\u001b[2K     \u001b[90m━━━━━━━━━━━━━━━━━━━━━━━━━━━━━━━━━━━━━━━━\u001b[0m \u001b[32m55.5/55.5 kB\u001b[0m \u001b[31m1.2 MB/s\u001b[0m eta \u001b[36m0:00:00\u001b[0m\n",
            "\u001b[?25hCollecting dawg-python>=0.7.1 (from pymorphy2)\n",
            "  Downloading DAWG_Python-0.7.2-py2.py3-none-any.whl (11 kB)\n",
            "Collecting pymorphy2-dicts-ru<3.0,>=2.4 (from pymorphy2)\n",
            "  Downloading pymorphy2_dicts_ru-2.4.417127.4579844-py2.py3-none-any.whl (8.2 MB)\n",
            "\u001b[2K     \u001b[90m━━━━━━━━━━━━━━━━━━━━━━━━━━━━━━━━━━━━━━━━\u001b[0m \u001b[32m8.2/8.2 MB\u001b[0m \u001b[31m14.1 MB/s\u001b[0m eta \u001b[36m0:00:00\u001b[0m\n",
            "\u001b[?25hCollecting docopt>=0.6 (from pymorphy2)\n",
            "  Downloading docopt-0.6.2.tar.gz (25 kB)\n",
            "  Preparing metadata (setup.py) ... \u001b[?25l\u001b[?25hdone\n",
            "Building wheels for collected packages: docopt\n",
            "  Building wheel for docopt (setup.py) ... \u001b[?25l\u001b[?25hdone\n",
            "  Created wheel for docopt: filename=docopt-0.6.2-py2.py3-none-any.whl size=13706 sha256=1878a3ec83cdd12937cccdd4d3928df863c249a475b1872ba6cb39f5d15f4723\n",
            "  Stored in directory: /root/.cache/pip/wheels/fc/ab/d4/5da2067ac95b36618c629a5f93f809425700506f72c9732fac\n",
            "Successfully built docopt\n",
            "Installing collected packages: pymorphy2-dicts-ru, docopt, dawg-python, pymorphy2\n",
            "Successfully installed dawg-python-0.7.2 docopt-0.6.2 pymorphy2-0.9.1 pymorphy2-dicts-ru-2.4.417127.4579844\n"
          ]
        }
      ],
      "source": [
        "pip install pymorphy2"
      ]
    },
    {
      "cell_type": "code",
      "execution_count": 6,
      "metadata": {
        "id": "4iZjynpk2B25"
      },
      "outputs": [],
      "source": [
        "import nltk\n",
        "import pymorphy2\n",
        "from nltk.tokenize import word_tokenize\n",
        "from nltk.corpus import stopwords\n",
        "from string import punctuation\n",
        "import re"
      ]
    },
    {
      "cell_type": "code",
      "execution_count": 7,
      "metadata": {
        "colab": {
          "base_uri": "https://localhost:8080/"
        },
        "id": "KTHeRoP22Aoj",
        "outputId": "0b04cf14-e8b4-4196-875d-ef8dfc86fc09"
      },
      "outputs": [
        {
          "output_type": "stream",
          "name": "stderr",
          "text": [
            "[nltk_data] Downloading package punkt to /root/nltk_data...\n",
            "[nltk_data]   Unzipping tokenizers/punkt.zip.\n",
            "[nltk_data] Downloading package stopwords to /root/nltk_data...\n",
            "[nltk_data]   Unzipping corpora/stopwords.zip.\n"
          ]
        }
      ],
      "source": [
        "\n",
        "# Загрузка ресурсов NLTK\n",
        "nltk.download('punkt')\n",
        "nltk.download('stopwords')\n",
        "\n",
        "# Инициализация морфологического анализатора pymorphy2\n",
        "morph = pymorphy2.MorphAnalyzer()\n",
        "\n",
        "# Функция для предобработки текста\n",
        "def preprocess_text(text):\n",
        "    # Токенизация текста с использованием токенизатора punkt\n",
        "    tokens = word_tokenize(text.lower(), language='russian')\n",
        "\n",
        "    # Объявление стоп слов\n",
        "    stop_words = set(stopwords.words('russian'))\n",
        "    # Удаление знаков препинания как отдельных токенов и стоп слов\n",
        "    tokens = [word for word in tokens if word not in stop_words and word not in punctuation]\n",
        "    tokens= [token for token in tokens if re.match(r'^[\\w\\d]+$', token)]\n",
        "\n",
        "\n",
        "    # Лемматизация токенов\n",
        "    lemmatized_tokens = [morph.parse(word)[0].normal_form for word in tokens]\n",
        "\n",
        "    return lemmatized_tokens\n"
      ]
    },
    {
      "cell_type": "code",
      "execution_count": 7,
      "metadata": {
        "id": "5skoe_aOMb7Z"
      },
      "outputs": [],
      "source": [
        "\n"
      ]
    },
    {
      "cell_type": "code",
      "execution_count": 8,
      "metadata": {
        "colab": {
          "base_uri": "https://localhost:8080/"
        },
        "id": "HruXHx0ORwWo",
        "outputId": "140e79a4-38f0-4474-8175-5e786e086987"
      },
      "outputs": [
        {
          "output_type": "stream",
          "name": "stdout",
          "text": [
            "Preprocessed Specialization:\n",
            "0                                 [it, разработка]\n",
            "1                                         [другой]\n",
            "2                           [управление, персонал]\n",
            "3                                         [другой]\n",
            "4                                 [it, разработка]\n",
            "                           ...                    \n",
            "7495                        [it, тестирование, qa]\n",
            "7496                        [it, тестирование, qa]\n",
            "7497    [it, поддержка, devops, администрирование]\n",
            "7498                        [бизнес, обслуживание]\n",
            "7499                    [внутренний, безопасность]\n",
            "Name: specialization, Length: 7500, dtype: object\n",
            "\n",
            "Preprocessed Duties:\n",
            "0       [предстоять, заниматься, работать, больший, об...\n",
            "1       [выполнять, служебный, поручение, непосредстве...\n",
            "2       [анализ, эффективность, применение, действоват...\n",
            "3       [целеполагание, сбор, консолидация, приоритиза...\n",
            "4       [разработка, прикладной, программа, java, поис...\n",
            "                              ...                        \n",
            "7495    [тестирование, продукт, компонент, автоматизац...\n",
            "7496    [анализ, требование, продукт, разработка, подд...\n",
            "7497    [мониторинг, система, настройка, развитие, инс...\n",
            "7498                                                   []\n",
            "7499    [контролировать, проверять, работоспособность,...\n",
            "Name: duties, Length: 7500, dtype: object\n",
            "\n",
            "Preprocessed Requirements:\n",
            "0       [важно, навык, оперативный, ответственный, раб...\n",
            "1       [высокий, образование, стаж, работа, область, ...\n",
            "2       [знание, методология, построение, совокупный, ...\n",
            "3       [образование, высокий, знание, excel, word, po...\n",
            "4       [опыт, работа, роль, разработчик, проект, испо...\n",
            "                              ...                        \n",
            "7495    [знание, python, знание, стандартный, библиоте...\n",
            "7496    [опыт, работа, тестирование, год, понимание, п...\n",
            "7497    [умение, читать, понимать, лог, системный, при...\n",
            "7498                                                   []\n",
            "7499    [образование, опыт, работа, охранный, деятельн...\n",
            "Name: requirements, Length: 7500, dtype: object\n",
            "Preprocessed_title:\n",
            "0                [модератор, команда, gigachat]\n",
            "1                            [главный, инженер]\n",
            "2                                        [c, b]\n",
            "3                                    [аналитик]\n",
            "4                                            []\n",
            "                         ...                   \n",
            "7495    [software, developer, in, test, python]\n",
            "7496       [инженер, тестирование, сберспасибо]\n",
            "7497        [инженер, сопровождение, эквайринг]\n",
            "7498       [специалист, технический, поддержка]\n",
            "7499                                 [охранник]\n",
            "Name: title, Length: 7500, dtype: object\n",
            "Preprocessed_introduction:\n",
            "0       [цифровой, поверхность, салют, sberdevices, ун...\n",
            "1       [сбер, это, 14, тысяча, подразделение, весь, с...\n",
            "2       [команда, c, b, искать, коллега, который, совм...\n",
            "3       [штаб, блок, транзакционный, бизнес, b2c, объя...\n",
            "4       [наш, команда, развивать, современный, цифрово...\n",
            "                              ...                        \n",
            "7495    [сбертех, разработчик, главный, поставщик, реш...\n",
            "7496    [молодой, команда, внутри, сбер, заниматься, с...\n",
            "7497    [наш, команда, заниматься, разработка, тестиро...\n",
            "7498    [искать, работа, возможность, карьерный, рост,...\n",
            "7499    [охранник, осуществлять, охрана, ценность, бое...\n",
            "Name: introduction, Length: 7500, dtype: object\n"
          ]
        }
      ],
      "source": [
        "# Предобработка текста в переменных specialization, duties, requirements\n",
        "preprocessed_specialization = df['specialization'].apply(preprocess_text)\n",
        "preprocessed_duties = df['duties'].apply(preprocess_text)\n",
        "preprocessed_requirements = df['requirements'].apply(preprocess_text)\n",
        "preprocessed_title = df['title'].apply(preprocess_text)\n",
        "preprocessed_introduction = df['introduction'].apply(preprocess_text)\n",
        "\n",
        "\n",
        "# Вывод результата предобработки\n",
        "print(\"Preprocessed Specialization:\")\n",
        "print(preprocessed_specialization)\n",
        "print(\"\\nPreprocessed Duties:\")\n",
        "print(preprocessed_duties)\n",
        "print(\"\\nPreprocessed Requirements:\")\n",
        "print(preprocessed_requirements)\n",
        "print(\"Preprocessed_title:\")\n",
        "print(preprocessed_title)\n",
        "print(\"Preprocessed_introduction:\")\n",
        "print(preprocessed_introduction)"
      ]
    },
    {
      "cell_type": "code",
      "execution_count": 29,
      "metadata": {
        "colab": {
          "base_uri": "https://localhost:8080/"
        },
        "id": "8qoRiPGtAUTG",
        "outputId": "c3e2bca7-9f53-40c7-dfdb-570d1c81d443"
      },
      "outputs": [
        {
          "output_type": "stream",
          "name": "stdout",
          "text": [
            "['ответственность', 'технический', 'обслуживание', 'автомобиль', 'деловой', 'этикет', 'стаж', 'вождение', '5', 'год', 'хороший', 'знание', 'город', 'безаварийный', 'вождение', 'правило', 'дорожный', 'движение', 'перевозка', 'груз', 'перевозка', 'пассажир', 'работа', 'сопроводительный', 'документация', 'спокойный', 'стиль', 'вождение', 'выполнение', 'поручение', 'руководитель', 'содержание', 'автомобиль', 'чистота', 'работа', 'автомобиль', 'представительский', 'класс']\n"
          ]
        }
      ],
      "source": [
        "resume='Ответственность, техническое обслуживание автомобилей, деловой этикет, стаж вождения от 5 лет, хорошее знание города, безаварийное вождение, правила дорожного движения, перевозка грузов, перевозка пассажиров, работа с сопроводительной документацией, спокойный стиль вождения, выполнение поручений руководителя, содержание автомобиля в чистоте, работа на автомобилях представительского класса'\n",
        "preprocessed_resume= preprocess_text(resume)\n",
        "print(preprocessed_resume)"
      ]
    },
    {
      "cell_type": "code",
      "execution_count": 11,
      "metadata": {
        "id": "0S8rJbgJDBbb"
      },
      "outputs": [],
      "source": [
        "from sklearn.feature_extraction.text import TfidfVectorizer,CountVectorizer\n",
        "from gensim.models import Word2Vec, FastText\n",
        "from sklearn.metrics.pairwise import cosine_similarity\n",
        "import numpy as np"
      ]
    },
    {
      "cell_type": "code",
      "execution_count": 12,
      "metadata": {
        "id": "lViEmsP_CRWU"
      },
      "outputs": [],
      "source": [
        "# Объединяем списки текстов из всех столбцов в один список строк\n",
        "combined_texts = df['preprocessed_introduction'].astype(str) + ' ' + \\\n",
        "                df['preprocessed_title'].astype(str) + ' ' + \\\n",
        "                df['preprocessed_requirements'].astype(str) + ' ' + \\\n",
        "                df['preprocessed_duties'].astype(str) + ' ' + \\\n",
        "                df['preprocessed_specialization'].astype(str)\n",
        "\n"
      ]
    },
    {
      "cell_type": "code",
      "execution_count": 13,
      "metadata": {
        "id": "92DrhzhRYeyS"
      },
      "outputs": [],
      "source": [
        "combined_texts.to_excel('combined_texts.xlsx')"
      ]
    },
    {
      "cell_type": "code",
      "execution_count": 14,
      "metadata": {
        "colab": {
          "base_uri": "https://localhost:8080/"
        },
        "id": "AXUT2JjK7bZO",
        "outputId": "547585a2-2bad-49ac-8c6a-ab8ca70538b5"
      },
      "outputs": [
        {
          "output_type": "stream",
          "name": "stdout",
          "text": [
            "Collecting sentence_transformers\n",
            "  Downloading sentence_transformers-2.7.0-py3-none-any.whl (171 kB)\n",
            "\u001b[2K     \u001b[90m━━━━━━━━━━━━━━━━━━━━━━━━━━━━━━━━━━━━━━━━\u001b[0m \u001b[32m171.5/171.5 kB\u001b[0m \u001b[31m4.4 MB/s\u001b[0m eta \u001b[36m0:00:00\u001b[0m\n",
            "\u001b[?25hRequirement already satisfied: transformers<5.0.0,>=4.34.0 in /usr/local/lib/python3.10/dist-packages (from sentence_transformers) (4.40.0)\n",
            "Requirement already satisfied: tqdm in /usr/local/lib/python3.10/dist-packages (from sentence_transformers) (4.66.2)\n",
            "Requirement already satisfied: torch>=1.11.0 in /usr/local/lib/python3.10/dist-packages (from sentence_transformers) (2.2.1+cu121)\n",
            "Requirement already satisfied: numpy in /usr/local/lib/python3.10/dist-packages (from sentence_transformers) (1.25.2)\n",
            "Requirement already satisfied: scikit-learn in /usr/local/lib/python3.10/dist-packages (from sentence_transformers) (1.2.2)\n",
            "Requirement already satisfied: scipy in /usr/local/lib/python3.10/dist-packages (from sentence_transformers) (1.11.4)\n",
            "Requirement already satisfied: huggingface-hub>=0.15.1 in /usr/local/lib/python3.10/dist-packages (from sentence_transformers) (0.20.3)\n",
            "Requirement already satisfied: Pillow in /usr/local/lib/python3.10/dist-packages (from sentence_transformers) (9.4.0)\n",
            "Requirement already satisfied: filelock in /usr/local/lib/python3.10/dist-packages (from huggingface-hub>=0.15.1->sentence_transformers) (3.13.4)\n",
            "Requirement already satisfied: fsspec>=2023.5.0 in /usr/local/lib/python3.10/dist-packages (from huggingface-hub>=0.15.1->sentence_transformers) (2023.6.0)\n",
            "Requirement already satisfied: requests in /usr/local/lib/python3.10/dist-packages (from huggingface-hub>=0.15.1->sentence_transformers) (2.31.0)\n",
            "Requirement already satisfied: pyyaml>=5.1 in /usr/local/lib/python3.10/dist-packages (from huggingface-hub>=0.15.1->sentence_transformers) (6.0.1)\n",
            "Requirement already satisfied: typing-extensions>=3.7.4.3 in /usr/local/lib/python3.10/dist-packages (from huggingface-hub>=0.15.1->sentence_transformers) (4.11.0)\n",
            "Requirement already satisfied: packaging>=20.9 in /usr/local/lib/python3.10/dist-packages (from huggingface-hub>=0.15.1->sentence_transformers) (24.0)\n",
            "Requirement already satisfied: sympy in /usr/local/lib/python3.10/dist-packages (from torch>=1.11.0->sentence_transformers) (1.12)\n",
            "Requirement already satisfied: networkx in /usr/local/lib/python3.10/dist-packages (from torch>=1.11.0->sentence_transformers) (3.3)\n",
            "Requirement already satisfied: jinja2 in /usr/local/lib/python3.10/dist-packages (from torch>=1.11.0->sentence_transformers) (3.1.3)\n",
            "Collecting nvidia-cuda-nvrtc-cu12==12.1.105 (from torch>=1.11.0->sentence_transformers)\n",
            "  Using cached nvidia_cuda_nvrtc_cu12-12.1.105-py3-none-manylinux1_x86_64.whl (23.7 MB)\n",
            "Collecting nvidia-cuda-runtime-cu12==12.1.105 (from torch>=1.11.0->sentence_transformers)\n",
            "  Using cached nvidia_cuda_runtime_cu12-12.1.105-py3-none-manylinux1_x86_64.whl (823 kB)\n",
            "Collecting nvidia-cuda-cupti-cu12==12.1.105 (from torch>=1.11.0->sentence_transformers)\n",
            "  Using cached nvidia_cuda_cupti_cu12-12.1.105-py3-none-manylinux1_x86_64.whl (14.1 MB)\n",
            "Collecting nvidia-cudnn-cu12==8.9.2.26 (from torch>=1.11.0->sentence_transformers)\n",
            "  Using cached nvidia_cudnn_cu12-8.9.2.26-py3-none-manylinux1_x86_64.whl (731.7 MB)\n",
            "Collecting nvidia-cublas-cu12==12.1.3.1 (from torch>=1.11.0->sentence_transformers)\n",
            "  Using cached nvidia_cublas_cu12-12.1.3.1-py3-none-manylinux1_x86_64.whl (410.6 MB)\n",
            "Collecting nvidia-cufft-cu12==11.0.2.54 (from torch>=1.11.0->sentence_transformers)\n",
            "  Using cached nvidia_cufft_cu12-11.0.2.54-py3-none-manylinux1_x86_64.whl (121.6 MB)\n",
            "Collecting nvidia-curand-cu12==10.3.2.106 (from torch>=1.11.0->sentence_transformers)\n",
            "  Using cached nvidia_curand_cu12-10.3.2.106-py3-none-manylinux1_x86_64.whl (56.5 MB)\n",
            "Collecting nvidia-cusolver-cu12==11.4.5.107 (from torch>=1.11.0->sentence_transformers)\n",
            "  Using cached nvidia_cusolver_cu12-11.4.5.107-py3-none-manylinux1_x86_64.whl (124.2 MB)\n",
            "Collecting nvidia-cusparse-cu12==12.1.0.106 (from torch>=1.11.0->sentence_transformers)\n",
            "  Using cached nvidia_cusparse_cu12-12.1.0.106-py3-none-manylinux1_x86_64.whl (196.0 MB)\n",
            "Collecting nvidia-nccl-cu12==2.19.3 (from torch>=1.11.0->sentence_transformers)\n",
            "  Using cached nvidia_nccl_cu12-2.19.3-py3-none-manylinux1_x86_64.whl (166.0 MB)\n",
            "Collecting nvidia-nvtx-cu12==12.1.105 (from torch>=1.11.0->sentence_transformers)\n",
            "  Using cached nvidia_nvtx_cu12-12.1.105-py3-none-manylinux1_x86_64.whl (99 kB)\n",
            "Requirement already satisfied: triton==2.2.0 in /usr/local/lib/python3.10/dist-packages (from torch>=1.11.0->sentence_transformers) (2.2.0)\n",
            "Collecting nvidia-nvjitlink-cu12 (from nvidia-cusolver-cu12==11.4.5.107->torch>=1.11.0->sentence_transformers)\n",
            "  Using cached nvidia_nvjitlink_cu12-12.4.127-py3-none-manylinux2014_x86_64.whl (21.1 MB)\n",
            "Requirement already satisfied: regex!=2019.12.17 in /usr/local/lib/python3.10/dist-packages (from transformers<5.0.0,>=4.34.0->sentence_transformers) (2023.12.25)\n",
            "Requirement already satisfied: tokenizers<0.20,>=0.19 in /usr/local/lib/python3.10/dist-packages (from transformers<5.0.0,>=4.34.0->sentence_transformers) (0.19.1)\n",
            "Requirement already satisfied: safetensors>=0.4.1 in /usr/local/lib/python3.10/dist-packages (from transformers<5.0.0,>=4.34.0->sentence_transformers) (0.4.3)\n",
            "Requirement already satisfied: joblib>=1.1.1 in /usr/local/lib/python3.10/dist-packages (from scikit-learn->sentence_transformers) (1.4.0)\n",
            "Requirement already satisfied: threadpoolctl>=2.0.0 in /usr/local/lib/python3.10/dist-packages (from scikit-learn->sentence_transformers) (3.4.0)\n",
            "Requirement already satisfied: MarkupSafe>=2.0 in /usr/local/lib/python3.10/dist-packages (from jinja2->torch>=1.11.0->sentence_transformers) (2.1.5)\n",
            "Requirement already satisfied: charset-normalizer<4,>=2 in /usr/local/lib/python3.10/dist-packages (from requests->huggingface-hub>=0.15.1->sentence_transformers) (3.3.2)\n",
            "Requirement already satisfied: idna<4,>=2.5 in /usr/local/lib/python3.10/dist-packages (from requests->huggingface-hub>=0.15.1->sentence_transformers) (3.7)\n",
            "Requirement already satisfied: urllib3<3,>=1.21.1 in /usr/local/lib/python3.10/dist-packages (from requests->huggingface-hub>=0.15.1->sentence_transformers) (2.0.7)\n",
            "Requirement already satisfied: certifi>=2017.4.17 in /usr/local/lib/python3.10/dist-packages (from requests->huggingface-hub>=0.15.1->sentence_transformers) (2024.2.2)\n",
            "Requirement already satisfied: mpmath>=0.19 in /usr/local/lib/python3.10/dist-packages (from sympy->torch>=1.11.0->sentence_transformers) (1.3.0)\n",
            "Installing collected packages: nvidia-nvtx-cu12, nvidia-nvjitlink-cu12, nvidia-nccl-cu12, nvidia-curand-cu12, nvidia-cufft-cu12, nvidia-cuda-runtime-cu12, nvidia-cuda-nvrtc-cu12, nvidia-cuda-cupti-cu12, nvidia-cublas-cu12, nvidia-cusparse-cu12, nvidia-cudnn-cu12, nvidia-cusolver-cu12, sentence_transformers\n",
            "Successfully installed nvidia-cublas-cu12-12.1.3.1 nvidia-cuda-cupti-cu12-12.1.105 nvidia-cuda-nvrtc-cu12-12.1.105 nvidia-cuda-runtime-cu12-12.1.105 nvidia-cudnn-cu12-8.9.2.26 nvidia-cufft-cu12-11.0.2.54 nvidia-curand-cu12-10.3.2.106 nvidia-cusolver-cu12-11.4.5.107 nvidia-cusparse-cu12-12.1.0.106 nvidia-nccl-cu12-2.19.3 nvidia-nvjitlink-cu12-12.4.127 nvidia-nvtx-cu12-12.1.105 sentence_transformers-2.7.0\n"
          ]
        }
      ],
      "source": [
        "pip install sentence_transformers"
      ]
    },
    {
      "cell_type": "code",
      "execution_count": 15,
      "metadata": {
        "id": "WrZR_LbG7YJI"
      },
      "outputs": [],
      "source": [
        "import numpy as np\n",
        "import pandas as pd\n",
        "from sklearn.feature_extraction.text import TfidfVectorizer\n",
        "from gensim.models import Word2Vec, FastText\n",
        "from sentence_transformers import SentenceTransformer\n",
        "from sklearn.metrics.pairwise import cosine_similarity"
      ]
    },
    {
      "cell_type": "code",
      "execution_count": 16,
      "metadata": {
        "colab": {
          "base_uri": "https://localhost:8080/"
        },
        "id": "GITwYs5jbIai",
        "outputId": "531dd3d6-b42b-44c6-9432-684e9bb037fa"
      },
      "outputs": [
        {
          "output_type": "stream",
          "name": "stderr",
          "text": [
            "WARNING:gensim.models.word2vec:Each 'sentences' item should be a list of words (usually unicode strings). First item here is instead plain <class 'str'>.\n",
            "WARNING:gensim.models.word2vec:Each 'sentences' item should be a list of words (usually unicode strings). First item here is instead plain <class 'str'>.\n"
          ]
        }
      ],
      "source": [
        "# TF-IDF векторизация\n",
        "vectorizer = TfidfVectorizer()\n",
        "vectors_tfidf = vectorizer.fit_transform(combined_texts)\n",
        "vector_tfidf_resume = vectorizer.transform([str(preprocessed_resume)])\n",
        "\n",
        "# Word2Vec\n",
        "text = ' '.join(preprocessed_resume)\n",
        "sentences_resume = text.split()\n",
        "sentences = combined_texts.apply(lambda x: x.split()).tolist()\n",
        "model_word2vec = Word2Vec(sentences, min_count=1)\n",
        "model_word2vec_resume = Word2Vec(sentences_resume, min_count=1)\n",
        "vectors_word2vec = np.array([model_word2vec.wv[word] for sentence in sentences for word in sentence])\n",
        "vectors_word2vec_resume= np.array([model_word2vec_resume.wv[word] for sentence in sentences_resume for word in sentence])\n",
        "\n",
        "# FastText\n",
        "model_fasttext = FastText(sentences, min_count=1)\n",
        "model_fasttext_resume = FastText(sentences_resume, min_count=1)\n",
        "vectors_fasttext = np.array([model_fasttext.wv[word] for sentence in sentences for word in sentence])\n",
        "vectors_fasttext_resume = np.array([model_fasttext_resume.wv[word] for sentence in sentences_resume for word in sentence])\n"
      ]
    },
    {
      "cell_type": "code",
      "execution_count": 17,
      "metadata": {
        "colab": {
          "base_uri": "https://localhost:8080/"
        },
        "id": "aBm_HclJJlla",
        "outputId": "ab6517e1-cfcb-4756-ea03-171cd0d83634"
      },
      "outputs": [
        {
          "output_type": "stream",
          "name": "stdout",
          "text": [
            "Размерность вектора резюме:\n",
            "(1, 13688)\n",
            "(320, 100)\n",
            "(320, 100)\n",
            "Размерность векторов описаний вакансий:\n",
            "(7500, 13688)\n",
            "(816980, 100)\n",
            "(816980, 100)\n"
          ]
        }
      ],
      "source": [
        "# Ваш вектор резюме (предположим, что он имеет размерность (1, n))\n",
        "vector_resume = [vector_tfidf_resume,vectors_word2vec_resume,vectors_fasttext_resume]\n",
        "\n",
        "# Ваши вектора описаний вакансий (предположим, что они хранятся в списке vectors_vacancies)\n",
        "vectors_vacancies = [vectors_tfidf,vectors_word2vec,vectors_fasttext]\n",
        "print(\"Размерность вектора резюме:\")\n",
        "for vec_resume in vector_resume:\n",
        "    print(vec_resume.shape)\n",
        "print(\"Размерность векторов описаний вакансий:\")\n",
        "for vec_vacancy in vectors_vacancies:\n",
        "    print(vec_vacancy.shape)"
      ]
    },
    {
      "cell_type": "code",
      "execution_count": 18,
      "metadata": {
        "id": "3mZSsOqRT3Gp"
      },
      "outputs": [],
      "source": [
        "similarity_tfidf = cosine_similarity(vectors_tfidf, vector_tfidf_resume)\n",
        "similarity_word2vec = cosine_similarity(vectors_word2vec, vectors_word2vec_resume)\n",
        "similarity_fasttext = cosine_similarity(vectors_fasttext, vectors_fasttext_resume)"
      ]
    },
    {
      "cell_type": "code",
      "execution_count": 19,
      "metadata": {
        "colab": {
          "base_uri": "https://localhost:8080/"
        },
        "id": "Yc6xtL3yT5og",
        "outputId": "c7562c08-fde1-4eda-bd34-d86c97052454"
      },
      "outputs": [
        {
          "output_type": "stream",
          "name": "stdout",
          "text": [
            "similarity_tfidf:  [[0.00824548]\n",
            " [0.05142096]\n",
            " [0.003992  ]\n",
            " ...\n",
            " [0.02910642]\n",
            " [0.01267665]\n",
            " [0.0039139 ]]\n",
            "\n",
            "similarity_word2vec:  [[ 0.2904368  -0.03750926  0.13431267 ...  0.04617491  0.21836887\n",
            "   0.21836887]\n",
            " [ 0.12136912  0.11617251  0.10721442 ...  0.12429921  0.16890678\n",
            "   0.16890678]\n",
            " [ 0.25002587  0.05381867  0.20739815 ...  0.09116582  0.12182702\n",
            "   0.12182702]\n",
            " ...\n",
            " [ 0.07530848 -0.09481372  0.15857527 ...  0.05089846  0.05932298\n",
            "   0.05932298]\n",
            " [ 0.08231365 -0.31388485  0.09266431 ...  0.03252022  0.04483069\n",
            "   0.04483069]\n",
            " [ 0.0837983  -0.34308103  0.0237739  ...  0.11520845  0.02723429\n",
            "   0.02723429]]\n",
            "\n",
            "similarity_fasttext:  [[ 0.10553807 -0.05147865 -0.03388921 ...  0.09966929 -0.13314122\n",
            "  -0.13314122]\n",
            " [-0.01888577 -0.04416866 -0.01529807 ... -0.08610129 -0.0651266\n",
            "  -0.0651266 ]\n",
            " [-0.00738227  0.07192467 -0.14824146 ... -0.03848694 -0.05859661\n",
            "  -0.05859661]\n",
            " ...\n",
            " [-0.13877891  0.18178526  0.07504131 ...  0.19018812 -0.09468149\n",
            "  -0.09468149]\n",
            " [-0.04874064 -0.06914536  0.04223583 ...  0.00708945 -0.08243829\n",
            "  -0.08243829]\n",
            " [-0.04439591 -0.00576274  0.1744767  ... -0.03953128 -0.02676222\n",
            "  -0.02676222]]\n"
          ]
        }
      ],
      "source": [
        "print('similarity_tfidf: ',similarity_tfidf)\n",
        "print()\n",
        "print('similarity_word2vec: ', similarity_word2vec)\n",
        "print()\n",
        "print('similarity_fasttext: ', similarity_fasttext)"
      ]
    },
    {
      "cell_type": "code",
      "execution_count": 20,
      "metadata": {
        "id": "4UC_bBbs-_LL"
      },
      "outputs": [],
      "source": [
        "#def cosine_similarity_to_percentage(cosine_similarity):\n",
        "    # Преобразование значения косинусной близости в проценты\n",
        "    #similarity_percentage = (cosine_similarity + 1) * 50\n",
        "    #return similarity_percentage\n",
        "\n",
        "#def calculate_overall_similarity(similarity_values):\n",
        "    # Вычисление среднего значения сходства в процентах\n",
        "    #overall_similarity = np.mean(similarity_values)\n",
        "    #return overall_similarity\n"
      ]
    },
    {
      "cell_type": "code",
      "execution_count": 21,
      "metadata": {
        "colab": {
          "base_uri": "https://localhost:8080/"
        },
        "id": "UvxAFCTtU4nQ",
        "outputId": "05a6e32e-11e8-484b-a159-4906ebffa80e"
      },
      "outputs": [
        {
          "output_type": "stream",
          "name": "stdout",
          "text": [
            "Общий процент сходства tfidf: 50.90%\n",
            "Общий процент сходства word2vec: 52.11%\n",
            "Общий процент сходства fasttext: 49.42%\n"
          ]
        }
      ],
      "source": [
        "# Преобразование значений косинусной близости в проценты\n",
        "#similarity_percentages_tfidf = cosine_similarity_to_percentage(similarity_tfidf)\n",
        "#similarity_percentages_word2vec = cosine_similarity_to_percentage(similarity_word2vec)\n",
        "#similarity_percentages_tfasttext = cosine_similarity_to_percentage(similarity_fasttext)\n",
        "\n",
        "# Вычисление общего процента сходства\n",
        "#overall_similarity_percentage_tfidf = calculate_overall_similarity(similarity_percentages_tfidf)\n",
        "#overall_similarity_percentage_word2vec = calculate_overall_similarity(similarity_percentages_word2vec)\n",
        "#overall_similarity_percentage_fasttext = calculate_overall_similarity(similarity_percentages_tfasttext)\n",
        "\n",
        "# Вывод результата\n",
        "#print(f\"Общий процент сходства tfidf: {overall_similarity_percentage_tfidf:.2f}%\")\n",
        "#print(f\"Общий процент сходства word2vec: {overall_similarity_percentage_word2vec:.2f}%\")\n",
        "#print(f\"Общий процент сходства fasttext: {overall_similarity_percentage_fasttext:.2f}%\")"
      ]
    },
    {
      "cell_type": "code",
      "execution_count": 22,
      "metadata": {
        "id": "f8RtPnhKWgGQ"
      },
      "outputs": [],
      "source": [
        "#def calculate_similarity(vectors_vacancy, vector_resume):\n",
        "     #Вычисляем косинусную близость между вектором вакансии и вектором резюме\n",
        "    #similarity = cosine_similarity(vectors_vacancy, vector_resume)\n",
        "    #return similarity\n",
        "\n",
        "#def rank_vacancies(similarity_scores):\n",
        "     #Ранжируем вакансии по мере их сходства с опытом\n",
        "     #ranked_indices = similarity_scores.argsort(axis=0)[::-1].squeeze()\n",
        "     #return ranked_indices\n",
        "\n",
        "#def get_top_n_vacancies(ranked_indices, n=10):\n",
        "    # Получаем Топ-N наиболее релевантных вакансий\n",
        "    #top_n_vacancies = ranked_indices[:n]\n",
        "    #return top_n_vacancies"
      ]
    },
    {
      "cell_type": "code",
      "execution_count": 23,
      "metadata": {
        "id": "AdAiHBugXkM6",
        "colab": {
          "base_uri": "https://localhost:8080/"
        },
        "outputId": "35d2c757-9e91-4ba7-ce32-9582766a3b6c"
      },
      "outputs": [
        {
          "output_type": "stream",
          "name": "stdout",
          "text": [
            "Топ-10 наиболее релевантных вакансий:\n",
            "Вакансия 1: 6033, сходство: [0.34244155]\n",
            "Вакансия 2: 2951, сходство: [0.33833966]\n",
            "Вакансия 3: 950, сходство: [0.31062924]\n",
            "Вакансия 4: 2538, сходство: [0.30488937]\n",
            "Вакансия 5: 3311, сходство: [0.28879322]\n",
            "Вакансия 6: 5300, сходство: [0.27772508]\n",
            "Вакансия 7: 3046, сходство: [0.24716685]\n",
            "Вакансия 8: 1631, сходство: [0.24716685]\n",
            "Вакансия 9: 3462, сходство: [0.24518714]\n",
            "Вакансия 10: 4123, сходство: [0.23041816]\n"
          ]
        }
      ],
      "source": [
        " #Посчитем меру сходства для опыта и описаний вакансий для tfidf\n",
        "#similarity_scores = calculate_similarity(vectors_tfidf, vector_tfidf_resume)\n",
        "\n",
        "# Ранжировать вакансии по мере их сходства с опытом\n",
        "#ranked_indices = rank_vacancies(similarity_scores)\n",
        "\n",
        "# Вывести Топ-10 наиболее релевантных вакансий\n",
        "#top_10_vacancies = get_top_n_vacancies(ranked_indices)\n",
        "#print(\"Топ-10 наиболее релевантных вакансий:\")\n",
        "#for i, idx in enumerate(top_10_vacancies):\n",
        "    #print(f\"Вакансия {i+1}: {idx}, сходство: {similarity_scores[idx]}\")"
      ]
    },
    {
      "cell_type": "code",
      "execution_count": 24,
      "metadata": {
        "colab": {
          "base_uri": "https://localhost:8080/"
        },
        "id": "gn7d1-lpX5ZV",
        "outputId": "10b51881-229a-4528-d32d-caab0b310c55"
      },
      "outputs": [
        {
          "output_type": "stream",
          "name": "stdout",
          "text": [
            "Топ-10 наиболее релевантных вакансий:\n",
            "Вакансия 1:\n",
            "title                                              Офисный водитель\n",
            "introduction      Хочешь работать в крупной компании, ценишь ста...\n",
            "specialization                                               Другое\n",
            "duties            *   заблаговременно планировать оптимальные ма...\n",
            "requirements      *   образование от среднего профессионального\\...\n",
            "conditions        *   стабильный оклад и социальная поддержка со...\n",
            "link                         https://rabota.sber.ru/search/4256358/\n",
            "Name: 6033, dtype: object\n",
            "\n",
            "Вакансия 2:\n",
            "title                                                      Водитель\n",
            "introduction                       В штат банка требуется водитель:\n",
            "specialization                            Административный персонал\n",
            "duties              \\n\\n*   обеспечивать комфортное и безопасное...\n",
            "requirements      *   образование от среднего профессионального ...\n",
            "conditions        *   адрес: Беговая, 209\\n*   график работы: пн...\n",
            "link                         https://rabota.sber.ru/search/4266067/\n",
            "Name: 2951, dtype: object\n",
            "\n",
            "Вакансия 3:\n",
            "title                                         Персональный водитель\n",
            "introduction                                                     \\*\n",
            "specialization                            Административный персонал\n",
            "duties            *   заблаговременно планировать оптимальные ма...\n",
            "requirements      *   образование от среднего профессионального ...\n",
            "conditions        *   стабильный оклад и социальная поддержка со...\n",
            "link                         https://rabota.sber.ru/search/4284357/\n",
            "Name: 950, dtype: object\n",
            "\n",
            "Вакансия 4:\n",
            "title                                                      Водитель\n",
            "introduction      Команда транспортного обеспечения Тульского от...\n",
            "specialization                            Административный персонал\n",
            "duties            ·       прохождение ежедневного медицинского о...\n",
            "requirements      ·       водительское удостоверение категории B...\n",
            "conditions        ·       работа в крупнейшем банке России\\n\\n· ...\n",
            "link                         https://rabota.sber.ru/search/4280343/\n",
            "Name: 2538, dtype: object\n",
            "\n",
            "Вакансия 5:\n",
            "title                                       Водитель (персональный)\n",
            "introduction      Сбер — лучший работодатель России. У нас более...\n",
            "specialization                            Административный персонал\n",
            "duties            *   обеспечение трансфера закрепленного руково...\n",
            "requirements      *   среднее профессиональное/высшее образовани...\n",
            "conditions        *   ипотеку выгоднее на 4% для каждого сотрудн...\n",
            "link                         https://rabota.sber.ru/search/4278045/\n",
            "Name: 3311, dtype: object\n",
            "\n",
            "Вакансия 6:\n",
            "title                                       Водитель (персональный)\n",
            "introduction      Сбер — лучший работодатель России. У нас 14 ты...\n",
            "specialization                                               Другое\n",
            "duties            *   Обеспечение безопасности пассажиров и сохр...\n",
            "requirements      *   Образование не ниже среднего - профессиона...\n",
            "conditions        *   Работа в крупнейшем банке России\\n*   Офиц...\n",
            "link                         https://rabota.sber.ru/search/4260845/\n",
            "Name: 5300, dtype: object\n",
            "\n",
            "Вакансия 7:\n",
            "title                                     Водитель мобильного офиса\n",
            "introduction      Сбер — лучший работодатель России. У нас 14 ты...\n",
            "specialization                                               Другое\n",
            "duties            *   Обеспечение сохранности банковских ценност...\n",
            "requirements      *   Образование не ниже среднего-специального\\...\n",
            "conditions        *   Работа в крупнейшем банке России\\n*   Офиц...\n",
            "link                         https://rabota.sber.ru/search/4278462/\n",
            "Name: 3046, dtype: object\n",
            "\n",
            "Вакансия 8:\n",
            "title                                     Водитель мобильного офиса\n",
            "introduction      Сбер — лучший работодатель России. У нас 14 ты...\n",
            "specialization                                               Другое\n",
            "duties            *   Обеспечение сохранности банковских ценност...\n",
            "requirements      *   Образование не ниже среднего-специального\\...\n",
            "conditions        *   Работа в крупнейшем банке России\\n*   Офиц...\n",
            "link                         https://rabota.sber.ru/search/4286166/\n",
            "Name: 1631, dtype: object\n",
            "\n",
            "Вакансия 9:\n",
            "title             Старший водитель автомобиля, предназначенного ...\n",
            "introduction      Команда занимается обеспечением комфортного и ...\n",
            "specialization                                               Другое\n",
            "duties            *   обеспечение комфортного и безопасного пере...\n",
            "requirements      *   образование не ниже среднего\\n*   водитель...\n",
            "conditions        *   график работы 2\\\\2\\\\3 с 8:00 до 20:00\\n*  ...\n",
            "link                         https://rabota.sber.ru/search/4269360/\n",
            "Name: 3462, dtype: object\n",
            "\n",
            "Вакансия 10:\n",
            "title                                       Водитель (персональный)\n",
            "introduction      Сбер – это стабильность, забота о команде и пр...\n",
            "specialization                            Административный персонал\n",
            "duties            *   управление банковским спецавтомобилем\\n*  ...\n",
            "requirements      *   наличие водительских прав категории \"В\"\\n*...\n",
            "conditions        *   стабильный оклад и социальная поддержка со...\n",
            "link                         https://rabota.sber.ru/search/4272634/\n",
            "Name: 4123, dtype: object\n",
            "\n"
          ]
        }
      ],
      "source": [
        "#top_10_vacancies = ranked_indices[:10]  # Получаем Топ-10 индексов вакансий\n",
        "\n",
        "# Получаем строки для всех 10 вакансий в Топ-10 и выбираем нужные столбцы\n",
        "#top_10_vacancies_info = df.iloc[top_10_vacancies][['title', 'introduction', 'specialization', 'duties', 'requirements', 'conditions', 'link']]\n",
        "\n",
        "# Выводим информацию о Топ-10 вакансиях\n",
        "#print(\"Топ-10 наиболее релевантных вакансий:\")\n",
        "#for i, (index, row) in enumerate(top_10_vacancies_info.iterrows(), 1):\n",
        "    #print(f\"Вакансия {i}:\")\n",
        "    #print(row)  # Выводим информацию о вакансии\n",
        "    #print()"
      ]
    },
    {
      "cell_type": "code",
      "execution_count": 25,
      "metadata": {
        "id": "F-olhlCNY1jJ"
      },
      "outputs": [],
      "source": [
        "\n",
        "class SimilarityRanker:\n",
        "    def __init__(self, vectors_vacancy, vector_resume, df):\n",
        "        self.vectors_vacancy = vectors_vacancy\n",
        "        self.vector_resume = vector_resume\n",
        "        self.df = df\n",
        "\n",
        "    def calculate_similarity(self):\n",
        "        # Вычисляем косинусную близость между вектором вакансии и вектором резюме\n",
        "        similarity = cosine_similarity(self.vectors_vacancy, self.vector_resume)\n",
        "        return similarity\n",
        "\n",
        "    def rank_vacancies(self, similarity_scores):\n",
        "        # Ранжируем вакансии по мере их сходства с опытом\n",
        "        ranked_indices = similarity_scores.argsort(axis=0)[::-1].squeeze()\n",
        "        return ranked_indices\n",
        "\n",
        "    def get_top_n_vacancies(self, ranked_indices, n=10):\n",
        "        # Получаем Топ-N наиболее релевантных вакансий\n",
        "        top_n_vacancies = ranked_indices[:n]\n",
        "        return top_n_vacancies\n",
        "\n",
        "    def find_top_n_relevant_vacancies(self, n=10):\n",
        "        # Посчитываем меру сходства для опыта и описаний вакансий\n",
        "        similarity_scores = self.calculate_similarity()\n",
        "\n",
        "        # Ранжировать вакансии по мере их сходства с опытом\n",
        "        ranked_indices = self.rank_vacancies(similarity_scores)\n",
        "\n",
        "        # Получить Топ-N наиболее релевантных вакансий\n",
        "        top_n_vacancies = self.get_top_n_vacancies(ranked_indices, n)\n",
        "\n",
        "        # Получить строки для всех 10 вакансий в Топ-10 и выбрать нужные столбцы\n",
        "        top_n_vacancies_info = self.df.iloc[top_n_vacancies][['title', 'introduction', 'specialization', 'duties', 'requirements', 'conditions', 'link']]\n",
        "\n",
        "        return top_n_vacancies_info"
      ]
    },
    {
      "cell_type": "code",
      "execution_count": 26,
      "metadata": {
        "colab": {
          "base_uri": "https://localhost:8080/"
        },
        "id": "fRHLyQThZro6",
        "outputId": "9b7ae1d8-197c-421b-8dec-7c7b05daeca6"
      },
      "outputs": [
        {
          "output_type": "stream",
          "name": "stdout",
          "text": [
            "Топ-10 наиболее релевантных вакансий:\n",
            "                                                  title  \\\n",
            "6033                                   Офисный водитель   \n",
            "2951                                           Водитель   \n",
            "950                               Персональный водитель   \n",
            "2538                                           Водитель   \n",
            "3311                            Водитель (персональный)   \n",
            "5300                            Водитель (персональный)   \n",
            "3046                          Водитель мобильного офиса   \n",
            "1631                          Водитель мобильного офиса   \n",
            "3462  Старший водитель автомобиля, предназначенного ...   \n",
            "4123                            Водитель (персональный)   \n",
            "\n",
            "                                           introduction  \\\n",
            "6033  Хочешь работать в крупной компании, ценишь ста...   \n",
            "2951                   В штат банка требуется водитель:   \n",
            "950                                                  \\*   \n",
            "2538  Команда транспортного обеспечения Тульского от...   \n",
            "3311  Сбер — лучший работодатель России. У нас более...   \n",
            "5300  Сбер — лучший работодатель России. У нас 14 ты...   \n",
            "3046  Сбер — лучший работодатель России. У нас 14 ты...   \n",
            "1631  Сбер — лучший работодатель России. У нас 14 ты...   \n",
            "3462  Команда занимается обеспечением комфортного и ...   \n",
            "4123  Сбер – это стабильность, забота о команде и пр...   \n",
            "\n",
            "                 specialization  \\\n",
            "6033                     Другое   \n",
            "2951  Административный персонал   \n",
            "950   Административный персонал   \n",
            "2538  Административный персонал   \n",
            "3311  Административный персонал   \n",
            "5300                     Другое   \n",
            "3046                     Другое   \n",
            "1631                     Другое   \n",
            "3462                     Другое   \n",
            "4123  Административный персонал   \n",
            "\n",
            "                                                 duties  \\\n",
            "6033  *   заблаговременно планировать оптимальные ма...   \n",
            "2951    \\n\\n*   обеспечивать комфортное и безопасное...   \n",
            "950   *   заблаговременно планировать оптимальные ма...   \n",
            "2538  ·       прохождение ежедневного медицинского о...   \n",
            "3311  *   обеспечение трансфера закрепленного руково...   \n",
            "5300  *   Обеспечение безопасности пассажиров и сохр...   \n",
            "3046  *   Обеспечение сохранности банковских ценност...   \n",
            "1631  *   Обеспечение сохранности банковских ценност...   \n",
            "3462  *   обеспечение комфортного и безопасного пере...   \n",
            "4123  *   управление банковским спецавтомобилем\\n*  ...   \n",
            "\n",
            "                                           requirements  \\\n",
            "6033  *   образование от среднего профессионального\\...   \n",
            "2951  *   образование от среднего профессионального ...   \n",
            "950   *   образование от среднего профессионального ...   \n",
            "2538  ·       водительское удостоверение категории B...   \n",
            "3311  *   среднее профессиональное/высшее образовани...   \n",
            "5300  *   Образование не ниже среднего - профессиона...   \n",
            "3046  *   Образование не ниже среднего-специального\\...   \n",
            "1631  *   Образование не ниже среднего-специального\\...   \n",
            "3462  *   образование не ниже среднего\\n*   водитель...   \n",
            "4123  *   наличие водительских прав категории \"В\"\\n*...   \n",
            "\n",
            "                                             conditions  \\\n",
            "6033  *   стабильный оклад и социальная поддержка со...   \n",
            "2951  *   адрес: Беговая, 209\\n*   график работы: пн...   \n",
            "950   *   стабильный оклад и социальная поддержка со...   \n",
            "2538  ·       работа в крупнейшем банке России\\n\\n· ...   \n",
            "3311  *   ипотеку выгоднее на 4% для каждого сотрудн...   \n",
            "5300  *   Работа в крупнейшем банке России\\n*   Офиц...   \n",
            "3046  *   Работа в крупнейшем банке России\\n*   Офиц...   \n",
            "1631  *   Работа в крупнейшем банке России\\n*   Офиц...   \n",
            "3462  *   график работы 2\\\\2\\\\3 с 8:00 до 20:00\\n*  ...   \n",
            "4123  *   стабильный оклад и социальная поддержка со...   \n",
            "\n",
            "                                        link  \n",
            "6033  https://rabota.sber.ru/search/4256358/  \n",
            "2951  https://rabota.sber.ru/search/4266067/  \n",
            "950   https://rabota.sber.ru/search/4284357/  \n",
            "2538  https://rabota.sber.ru/search/4280343/  \n",
            "3311  https://rabota.sber.ru/search/4278045/  \n",
            "5300  https://rabota.sber.ru/search/4260845/  \n",
            "3046  https://rabota.sber.ru/search/4278462/  \n",
            "1631  https://rabota.sber.ru/search/4286166/  \n",
            "3462  https://rabota.sber.ru/search/4269360/  \n",
            "4123  https://rabota.sber.ru/search/4272634/  \n"
          ]
        }
      ],
      "source": [
        "\n",
        "# Создаем объект класса\n",
        "similarity_ranker = SimilarityRanker(vectors_tfidf, vector_tfidf_resume, df)\n",
        "\n",
        "# Получаем Топ-10 наиболее релевантных вакансий\n",
        "top_10_vacancies_info = similarity_ranker.find_top_n_relevant_vacancies()\n",
        "\n",
        "# Выводим информацию о Топ-10 вакансиях\n",
        "print(\"Топ-10 наиболее релевантных вакансий:\")\n",
        "print(top_10_vacancies_info)"
      ]
    },
    {
      "cell_type": "code",
      "source": [
        "resume=str(input())\n",
        "preprocessed_resume= preprocess_text(resume)\n"
      ],
      "metadata": {
        "colab": {
          "base_uri": "https://localhost:8080/"
        },
        "id": "ANN050WSqWuk",
        "outputId": "5a68119c-2738-46fc-bd2e-333fe0fb5265"
      },
      "execution_count": 30,
      "outputs": [
        {
          "name": "stdout",
          "output_type": "stream",
          "text": [
            "Погрузочно-разгрузочные работы, права на погрузчик, работа на погрузчике, управление автопогрузчиком, работа на дизельном погрузчике, работа на вилочном погрузчике, права на управление погрузчиком, водитель погрузчика \n"
          ]
        }
      ]
    },
    {
      "cell_type": "code",
      "source": [
        "vector_tfidf_resume = vectorizer.transform([str(preprocessed_resume)])\n",
        "text = ' '.join(preprocessed_resume)\n",
        "sentences_resume = text.split()\n",
        "vectors_word2vec_resume= np.array([model_word2vec_resume.wv[word] for sentence in sentences_resume for word in sentence])\n",
        "model_fasttext_resume = FastText(sentences_resume, min_count=1)\n",
        "vectors_fasttext_resume = np.array([model_fasttext_resume.wv[word] for sentence in sentences_resume for word in sentence])\n"
      ],
      "metadata": {
        "colab": {
          "base_uri": "https://localhost:8080/"
        },
        "id": "G1gH-D0eqmp-",
        "outputId": "17471d38-d61b-471d-90bd-44240ab90e9b"
      },
      "execution_count": 31,
      "outputs": [
        {
          "output_type": "stream",
          "name": "stderr",
          "text": [
            "WARNING:gensim.models.word2vec:Each 'sentences' item should be a list of words (usually unicode strings). First item here is instead plain <class 'str'>.\n"
          ]
        }
      ]
    },
    {
      "cell_type": "code",
      "source": [
        "from tabulate import tabulate"
      ],
      "metadata": {
        "id": "GzcK2YHDrSSO"
      },
      "execution_count": 33,
      "outputs": []
    },
    {
      "cell_type": "code",
      "source": [
        "\n",
        "# Создаем объект класса\n",
        "similarity_ranker = SimilarityRanker(vectors_fasttext, vectors_fasttext, df)\n",
        "\n",
        "# Получаем Топ-10 наиболее релевантных вакансий\n",
        "top_10_vacancies_info = similarity_ranker.find_top_n_relevant_vacancies()\n",
        "\n",
        "# Выводим информацию о Топ-10 вакансиях\n",
        "print(\"Топ-10 наиболее релевантных вакансий:\")\n",
        "print(top_10_vacancies_info)"
      ],
      "metadata": {
        "id": "YeaVIyc3q4GY"
      },
      "execution_count": null,
      "outputs": []
    },
    {
      "cell_type": "code",
      "source": [
        "table_str = tabulate(top_10_vacancies_info, headers='keys', tablefmt='grid')\n",
        "\n",
        "# Вывод таблицы с границами\n",
        "print(table_str)"
      ],
      "metadata": {
        "id": "cQY2YVrvrpmP"
      },
      "execution_count": null,
      "outputs": []
    }
  ],
  "metadata": {
    "colab": {
      "provenance": []
    },
    "kernelspec": {
      "display_name": "Python 3",
      "name": "python3"
    },
    "language_info": {
      "name": "python",
      "version": "3.12.0"
    }
  },
  "nbformat": 4,
  "nbformat_minor": 0
}