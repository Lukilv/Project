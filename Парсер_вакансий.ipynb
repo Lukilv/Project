{
  "cells": [
    {
      "cell_type": "code",
      "execution_count": 5,
      "metadata": {
        "id": "aUmKBra31UUT"
      },
      "outputs": [],
      "source": [
        "import requests\n",
        "import time\n",
        "\n",
        "def get_vac():\n",
        "    all_vacancies = []\n",
        "    offset = 0\n",
        "    limit = 100\n",
        "    session = requests.Session()\n",
        "\n",
        "    while True:\n",
        "        url='https://rabota.sber.ru/public/app-candidate-public-api-gateway/api/v1/publications'\n",
        "        params = {'skip': offset, 'take': limit}\n",
        "        try:\n",
        "            response = session.get(url, params=params)\n",
        "            response.raise_for_status()\n",
        "            print(f'Вакансии получены в количестве: {offset}')\n",
        "        except requests.RequestException as e:\n",
        "            print(f'Ошибка: {e}.')\n",
        "            break  # Выход из цикла при ошибке\n",
        "\n",
        "        data = response.json().get('data', {}).get('vacancies', [])\n",
        "        if len(data) < 100:\n",
        "            break\n",
        "        all_vacancies += data\n",
        "        offset += limit\n",
        "\n",
        "    return all_vacancies\n"
      ]
    },
    {
      "cell_type": "code",
      "execution_count": 6,
      "metadata": {
        "colab": {
          "base_uri": "https://localhost:8080/"
        },
        "id": "O1CPXFkn1Xu1",
        "outputId": "7839cb52-3573-495b-9563-7ece82f7b9c0"
      },
      "outputs": [
        {
          "name": "stdout",
          "output_type": "stream",
          "text": [
            "Вакансии получены в количестве: 0\n",
            "Вакансии получены в количестве: 100\n",
            "Вакансии получены в количестве: 200\n",
            "Вакансии получены в количестве: 300\n",
            "Вакансии получены в количестве: 400\n",
            "Вакансии получены в количестве: 500\n",
            "Вакансии получены в количестве: 600\n",
            "Вакансии получены в количестве: 700\n",
            "Вакансии получены в количестве: 800\n",
            "Вакансии получены в количестве: 900\n",
            "Вакансии получены в количестве: 1000\n",
            "Вакансии получены в количестве: 1100\n",
            "Вакансии получены в количестве: 1200\n",
            "Вакансии получены в количестве: 1300\n",
            "Вакансии получены в количестве: 1400\n",
            "Вакансии получены в количестве: 1500\n",
            "Вакансии получены в количестве: 1600\n",
            "Вакансии получены в количестве: 1700\n",
            "Вакансии получены в количестве: 1800\n",
            "Вакансии получены в количестве: 1900\n",
            "Вакансии получены в количестве: 2000\n",
            "Вакансии получены в количестве: 2100\n",
            "Вакансии получены в количестве: 2200\n",
            "Вакансии получены в количестве: 2300\n",
            "Вакансии получены в количестве: 2400\n",
            "Вакансии получены в количестве: 2500\n",
            "Вакансии получены в количестве: 2600\n",
            "Вакансии получены в количестве: 2700\n",
            "Вакансии получены в количестве: 2800\n",
            "Вакансии получены в количестве: 2900\n",
            "Вакансии получены в количестве: 3000\n",
            "Вакансии получены в количестве: 3100\n",
            "Вакансии получены в количестве: 3200\n",
            "Вакансии получены в количестве: 3300\n",
            "Вакансии получены в количестве: 3400\n",
            "Вакансии получены в количестве: 3500\n",
            "Вакансии получены в количестве: 3600\n",
            "Вакансии получены в количестве: 3700\n",
            "Вакансии получены в количестве: 3800\n",
            "Вакансии получены в количестве: 3900\n",
            "Вакансии получены в количестве: 4000\n",
            "Вакансии получены в количестве: 4100\n",
            "Вакансии получены в количестве: 4200\n",
            "Вакансии получены в количестве: 4300\n",
            "Вакансии получены в количестве: 4400\n",
            "Вакансии получены в количестве: 4500\n",
            "Вакансии получены в количестве: 4600\n",
            "Вакансии получены в количестве: 4700\n",
            "Вакансии получены в количестве: 4800\n",
            "Вакансии получены в количестве: 4900\n",
            "Вакансии получены в количестве: 5000\n",
            "Вакансии получены в количестве: 5100\n",
            "Вакансии получены в количестве: 5200\n",
            "Вакансии получены в количестве: 5300\n",
            "Вакансии получены в количестве: 5400\n",
            "Вакансии получены в количестве: 5500\n",
            "Вакансии получены в количестве: 5600\n",
            "Вакансии получены в количестве: 5700\n",
            "Вакансии получены в количестве: 5800\n",
            "Вакансии получены в количестве: 5900\n",
            "Вакансии получены в количестве: 6000\n",
            "Вакансии получены в количестве: 6100\n",
            "Вакансии получены в количестве: 6200\n",
            "Вакансии получены в количестве: 6300\n",
            "Вакансии получены в количестве: 6400\n",
            "Вакансии получены в количестве: 6500\n",
            "Вакансии получены в количестве: 6600\n",
            "Вакансии получены в количестве: 6700\n",
            "Вакансии получены в количестве: 6800\n",
            "Вакансии получены в количестве: 6900\n",
            "Вакансии получены в количестве: 7000\n",
            "Вакансии получены в количестве: 7100\n",
            "Вакансии получены в количестве: 7200\n",
            "Вакансии получены в количестве: 7300\n",
            "Вакансии получены в количестве: 7400\n",
            "Вакансии получены в количестве: 7500\n"
          ]
        }
      ],
      "source": [
        "all_objects = get_vac()"
      ]
    },
    {
      "cell_type": "code",
      "execution_count": 7,
      "metadata": {
        "id": "LJyoZkp82AZ7"
      },
      "outputs": [],
      "source": [
        "import pandas as pd"
      ]
    },
    {
      "cell_type": "code",
      "execution_count": 8,
      "metadata": {
        "id": "hCGzO6ic1zQD"
      },
      "outputs": [],
      "source": [
        "df = pd.DataFrame(all_objects)"
      ]
    },
    {
      "cell_type": "code",
      "execution_count": 12,
      "metadata": {
        "id": "sU3gGFwo2YBq"
      },
      "outputs": [],
      "source": [
        "#генерируем ссылки\n",
        "def generate_link(internalId):\n",
        "    return f\"https://rabota.sber.ru/search/{internalId}/\""
      ]
    },
    {
      "cell_type": "code",
      "execution_count": 13,
      "metadata": {
        "id": "oTOwxIxv27U8"
      },
      "outputs": [],
      "source": [
        "# Создание нового столбца с ссылками\n",
        "df['link'] = df['internalId'].apply(generate_link)"
      ]
    },
    {
      "cell_type": "code",
      "execution_count": 14,
      "metadata": {
        "colab": {
          "base_uri": "https://localhost:8080/"
        },
        "id": "crXKVwNs2_49",
        "outputId": "c73d6756-85e0-45a3-932f-264521375db7"
      },
      "outputs": [
        {
          "name": "stdout",
          "output_type": "stream",
          "text": [
            "0       https://rabota.sber.ru/search/4291571/\n",
            "1       https://rabota.sber.ru/search/4281880/\n",
            "2       https://rabota.sber.ru/search/4290173/\n",
            "3       https://rabota.sber.ru/search/4289000/\n",
            "4       https://rabota.sber.ru/search/4291066/\n",
            "                         ...                  \n",
            "7495    https://rabota.sber.ru/search/4217912/\n",
            "7496    https://rabota.sber.ru/search/4132217/\n",
            "7497    https://rabota.sber.ru/search/4112270/\n",
            "7498    https://rabota.sber.ru/search/4240826/\n",
            "7499    https://rabota.sber.ru/search/4227719/\n",
            "Name: link, Length: 7500, dtype: object\n"
          ]
        }
      ],
      "source": [
        "print(df['link'])"
      ]
    },
    {
      "cell_type": "code",
      "execution_count": 15,
      "metadata": {
        "id": "2HLK4w4e1-Ce"
      },
      "outputs": [],
      "source": [
        "df.to_excel('vacancies.xlsx')"
      ]
    },
    {
      "cell_type": "code",
      "execution_count": 16,
      "metadata": {
        "id": "rY6b945B2MZu"
      },
      "outputs": [],
      "source": [
        "from google.colab import files"
      ]
    },
    {
      "cell_type": "code",
      "execution_count": 17,
      "metadata": {
        "colab": {
          "base_uri": "https://localhost:8080/",
          "height": 17
        },
        "id": "OS2bL-IZ2JYn",
        "outputId": "cdd55778-05f3-426c-a11e-d2eadf2a920c"
      },
      "outputs": [
        {
          "data": {
            "application/javascript": "\n    async function download(id, filename, size) {\n      if (!google.colab.kernel.accessAllowed) {\n        return;\n      }\n      const div = document.createElement('div');\n      const label = document.createElement('label');\n      label.textContent = `Downloading \"${filename}\": `;\n      div.appendChild(label);\n      const progress = document.createElement('progress');\n      progress.max = size;\n      div.appendChild(progress);\n      document.body.appendChild(div);\n\n      const buffers = [];\n      let downloaded = 0;\n\n      const channel = await google.colab.kernel.comms.open(id);\n      // Send a message to notify the kernel that we're ready.\n      channel.send({})\n\n      for await (const message of channel.messages) {\n        // Send a message to notify the kernel that we're ready.\n        channel.send({})\n        if (message.buffers) {\n          for (const buffer of message.buffers) {\n            buffers.push(buffer);\n            downloaded += buffer.byteLength;\n            progress.value = downloaded;\n          }\n        }\n      }\n      const blob = new Blob(buffers, {type: 'application/binary'});\n      const a = document.createElement('a');\n      a.href = window.URL.createObjectURL(blob);\n      a.download = filename;\n      div.appendChild(a);\n      a.click();\n      div.remove();\n    }\n  ",
            "text/plain": [
              "<IPython.core.display.Javascript object>"
            ]
          },
          "metadata": {},
          "output_type": "display_data"
        },
        {
          "data": {
            "application/javascript": "download(\"download_4e3e14da-57a4-49f4-bf87-be32a0496557\", \"vacancies.xlsx\", 8860610)",
            "text/plain": [
              "<IPython.core.display.Javascript object>"
            ]
          },
          "metadata": {},
          "output_type": "display_data"
        }
      ],
      "source": [
        "files.download('/content/vacancies.xlsx')"
      ]
    }
  ],
  "metadata": {
    "colab": {
      "provenance": []
    },
    "kernelspec": {
      "display_name": "Python 3",
      "name": "python3"
    },
    "language_info": {
      "name": "python"
    }
  },
  "nbformat": 4,
  "nbformat_minor": 0
}
